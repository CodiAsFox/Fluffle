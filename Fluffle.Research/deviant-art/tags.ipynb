{
 "cells": [
  {
   "cell_type": "code",
   "execution_count": 1,
   "metadata": {},
   "outputs": [],
   "source": [
    "import pandas as pd\n",
    "from more_itertools import chunked\n",
    "from requests import get, post\n",
    "from tqdm import tqdm\n",
    "import yaml\n",
    "\n",
    "N_DEVIATIONS = 10_000\n",
    "\n",
    "with open('config.yml') as config_file:\n",
    "    config = yaml.safe_load(config_file)\n",
    "\n",
    "def get_access_token():\n",
    "    response = post('https://www.deviantart.com/oauth2/token', {\n",
    "        'grant_type': 'client_credentials',\n",
    "        'client_id': config['client_id'],\n",
    "        'client_secret': config['client_secret'],\n",
    "    })\n",
    "    data = response.json()\n",
    "    access_token = data['access_token']\n",
    "\n",
    "    return access_token\n",
    "\n",
    "access_token = get_access_token()"
   ]
  },
  {
   "cell_type": "code",
   "execution_count": 2,
   "metadata": {},
   "outputs": [
    {
     "name": "stdout",
     "output_type": "stream",
     "text": [
      "Gathered 5008 deviations\n"
     ]
    }
   ],
   "source": [
    "def browse_latest(offset=0):\n",
    "    response = get('https://www.deviantart.com/api/v1/oauth2/browse/newest', {\n",
    "        'access_token': access_token,\n",
    "        'q': 'furry',\n",
    "        'limit': 120,\n",
    "        'offset': offset,\n",
    "        'mature_content': 'true'\n",
    "    })\n",
    "    data = response.json()\n",
    "\n",
    "    return data\n",
    "\n",
    "offset = 0\n",
    "deviations = {}\n",
    "while len(deviations) < N_DEVIATIONS:\n",
    "    response = browse_latest(offset)\n",
    "    for deviation in response['results']:\n",
    "        deviations[deviation['deviationid']] = deviation\n",
    "\n",
    "    if not response['has_more']:\n",
    "        break\n",
    "\n",
    "    offset = response['next_offset']\n",
    "\n",
    "print(f'Gathered {len(deviations)} deviations')"
   ]
  },
  {
   "cell_type": "code",
   "execution_count": 3,
   "metadata": {},
   "outputs": [
    {
     "name": "stderr",
     "output_type": "stream",
     "text": [
      "100%|██████████| 201/201 [01:07<00:00,  2.96it/s]\n"
     ]
    }
   ],
   "source": [
    "def get_metadata(ids):\n",
    "    response = get('https://www.deviantart.com/api/v1/oauth2/deviation/metadata', {\n",
    "        'access_token': access_token,\n",
    "        'deviationids[]': ids,\n",
    "        'mature_content': 'true'\n",
    "    })\n",
    "    data = response.json()['metadata']\n",
    "\n",
    "    return data\n",
    "\n",
    "for chunk in tqdm(list(chunked(deviations.values(), 25))):\n",
    "    ids = list(map(lambda x: x['deviationid'], chunk))\n",
    "    metadatas = get_metadata(ids)\n",
    "    for metadata in metadatas:\n",
    "        deviations[metadata['deviationid']]['tags'] = list(map(lambda x: x['tag_name'], metadata['tags']))"
   ]
  },
  {
   "cell_type": "code",
   "execution_count": 4,
   "metadata": {},
   "outputs": [
    {
     "name": "stdout",
     "output_type": "stream",
     "text": [
      "furry: 4600\n",
      "anthro: 1744\n",
      "furryanthro: 1085\n",
      "furryart: 1044\n",
      "oc: 655\n",
      "cute: 578\n",
      "art: 576\n",
      "digitalart: 561\n",
      "furryartist: 535\n",
      "anthropomorphic: 500\n",
      "female: 458\n",
      "commission: 452\n",
      "furrycharacter: 448\n",
      "halloween: 446\n",
      "furryfemale: 432\n",
      "wolf: 406\n",
      "cat: 401\n",
      "fursona: 394\n",
      "furryfandom: 377\n",
      "originalcharacter: 371\n",
      "adopt: 364\n",
      "digital: 329\n",
      "adoptable: 322\n",
      "fox: 312\n",
      "dog: 299\n",
      "anthrofurry: 270\n",
      "furrycommission: 266\n",
      "canine: 263\n",
      "commissionsopen: 249\n",
      "male: 245\n",
      "ych: 219\n",
      "dragon: 211\n",
      "sexy: 209\n",
      "furryfurries: 209\n",
      "nsfw: 200\n",
      "girl: 196\n",
      "character: 192\n",
      "anime: 192\n",
      "fanart: 189\n",
      "sketch: 185\n",
      "drawing: 185\n",
      "digitaldrawing: 185\n",
      "feral: 177\n",
      "boobs: 175\n",
      "feline: 174\n",
      "anthrocharacter: 170\n",
      "pokemon: 165\n",
      "adoptablesopen: 163\n",
      "adoptables: 162\n",
      "furries: 160\n",
      "comic: 159\n",
      "cartoon: 157\n",
      "animal: 156\n",
      "characterdesign: 150\n",
      "illustration: 150\n",
      "fantasy: 149\n",
      "fluffy: 149\n",
      "chibi: 146\n",
      "artwork: 137\n",
      "furryoc: 135\n",
      "furryartwork: 126\n",
      "anthroart: 122\n",
      "auction: 122\n",
      "commissions: 117\n",
      "furryadoptable: 117\n",
      "digitalpainting: 115\n",
      "sfw: 111\n",
      "nude: 111\n",
      "open: 109\n",
      "demon: 108\n",
      "commissionart: 105\n",
      "woman: 103\n",
      "kawaii: 102\n",
      "bunny: 98\n",
      "digitalartwork: 97\n",
      "digitalillustration: 97\n",
      "portrait: 97\n",
      "fur: 96\n",
      "adopts: 93\n",
      "design: 93\n",
      "artworkdigital: 92\n",
      "paypal: 92\n",
      "doodle: 91\n",
      "ychcommission: 89\n",
      "breasts: 89\n",
      "artist: 89\n",
      "traditionalart: 89\n",
      "monster: 88\n",
      "anthrofemale: 87\n",
      "rabbit: 85\n",
      "werewolf: 82\n",
      "bigbreasts: 82\n",
      "transformation: 81\n",
      "thicc: 81\n",
      "halloween2022: 80\n",
      "fat: 79\n",
      "adoptableauction: 78\n",
      "midjourney: 75\n",
      "kemono: 75\n",
      "big: 74\n"
     ]
    }
   ],
   "source": [
    "tags = []\n",
    "for deviation in deviations.values():\n",
    "    tags.extend(deviation['tags'])\n",
    "\n",
    "tags = pd.Series(tags)\n",
    "for name, count in tags.value_counts(ascending=False).iloc[:100].items():\n",
    "    print(f'{name}: {count}')"
   ]
  }
 ],
 "metadata": {
  "kernelspec": {
   "display_name": "Python 3.9.12 ('env': venv)",
   "language": "python",
   "name": "python3"
  },
  "language_info": {
   "codemirror_mode": {
    "name": "ipython",
    "version": 3
   },
   "file_extension": ".py",
   "mimetype": "text/x-python",
   "name": "python",
   "nbconvert_exporter": "python",
   "pygments_lexer": "ipython3",
   "version": "3.9.12"
  },
  "vscode": {
   "interpreter": {
    "hash": "954a3be1ad9cc41277244fd90e7aa0dfed8f2f937ddb30cdf762d1ebe50150cb"
   }
  }
 },
 "nbformat": 4,
 "nbformat_minor": 2
}
