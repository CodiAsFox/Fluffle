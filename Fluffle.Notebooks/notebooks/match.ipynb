{
 "cells": [
  {
   "cell_type": "code",
   "execution_count": 1,
   "source": [
    "# Import required libraries\r\n",
    "import pandas as pd\r\n",
    "import numpy as np\r\n",
    "import json\r\n",
    "import yaml\r\n",
    "import os\r\n",
    "from os import path\r\n",
    "from tqdm import tqdm\r\n",
    "from pyvips import Image\r\n",
    "from requests import get"
   ],
   "outputs": [],
   "metadata": {}
  },
  {
   "cell_type": "code",
   "execution_count": 2,
   "source": [
    "# Load the config and extract credentials from it\r\n",
    "config = yaml.load(open('../config.yml', 'r'), Loader=yaml.SafeLoader)\r\n",
    "auth = (config['username'], config['api_key'])\r\n",
    "debug_key = config['debug_key']\r\n",
    "\r\n",
    "# Define the default headers that will be send with each request\r\n",
    "default_headers = {\r\n",
    "    'User-Agent': 'fluffle-notebook (by NoppesTheFolf on Twitter)'\r\n",
    "}\r\n",
    "\r\n",
    "# Create the cache directory if it doesn't exist yet\r\n",
    "cache_dir = config['cache_dir']\r\n",
    "if not path.exists(cache_dir):\r\n",
    "    os.makedirs(cache_dir)\r\n",
    "\r\n",
    "# Define functions to download files to and get files from cache directory \r\n",
    "def get_location(id: str):\r\n",
    "    return path.join(cache_dir, '{}.png'.format(id))\r\n",
    "\r\n",
    "def predownload_image(id: str, download_function):\r\n",
    "    dest = get_location(id)\r\n",
    "    if path.exists(dest):\r\n",
    "        return\r\n",
    "    \r\n",
    "    response = download_function()\r\n",
    "    image = Image.new_from_buffer(response.content, '')\r\n",
    "    image.pngsave(dest)\r\n",
    "    return dest"
   ],
   "outputs": [],
   "metadata": {}
  },
  {
   "cell_type": "code",
   "execution_count": 3,
   "source": [
    "# Download the images from e621\r\n",
    "def download_e621_post(id):\r\n",
    "    def download():\r\n",
    "        post_response = get('https://e621.net/posts/{}.json'.format(id), headers=default_headers, auth=auth)\r\n",
    "        if post_response.status_code == 404:\r\n",
    "            raise Exception('Post with ID {} could not be found.'.format(id))\r\n",
    "        \r\n",
    "        post_file = post_response.json()['post']['file']\r\n",
    "        download_response = get(post_file['url'], headers=default_headers, auth=auth)\r\n",
    "        if download_response.status_code == 404:\r\n",
    "            raise Exception('File for post with ID {} could not be found.'.format(id))\r\n",
    "\r\n",
    "        return download_response\r\n",
    "    \r\n",
    "    return predownload_image(id, download)\r\n",
    "\r\n",
    "with open('../data/posts.json', 'r') as file:\r\n",
    "    post_groups = json.load(file)\r\n",
    "\r\n",
    "post_ids = pd.Series([item for sublist in post_groups for item in sublist])\r\n",
    "if len(post_ids) != len(post_ids.unique()):\r\n",
    "    raise Exception('Not all post IDs are unique!')\r\n",
    "\r\n",
    "for post_id in tqdm(np.concatenate(post_groups), desc='Downloading images from e621'):\r\n",
    "    download_e621_post(post_id)"
   ],
   "outputs": [
    {
     "output_type": "stream",
     "name": "stderr",
     "text": [
      "Downloading images from e621: 100%|██████████| 115/115 [00:00<00:00, 32839.39it/s]\n"
     ]
    }
   ],
   "metadata": {}
  },
  {
   "cell_type": "code",
   "execution_count": 4,
   "source": [
    "# Download the images from unsplash\r\n",
    "def download_unsplash(id):\r\n",
    "    def download():\r\n",
    "        response = get('https://source.unsplash.com/' + id, headers=default_headers)\r\n",
    "        if response.status_code == 404:\r\n",
    "            raise Exception('No Unsplash image could be found with ID {}.'.format(id))\r\n",
    "        \r\n",
    "        return response\r\n",
    "\r\n",
    "    return predownload_image(id, download)\r\n",
    "\r\n",
    "with open('../data/unsplash.yml', 'r') as file:\r\n",
    "    unsplash = yaml.load(file, Loader=yaml.SafeLoader)\r\n",
    "\r\n",
    "unsplash_ids = np.concatenate(list(map(lambda x: x['ids'] ,unsplash.values())))\r\n",
    "for unsplash_id in tqdm(unsplash_ids, desc='Downloading images from Unsplash'):\r\n",
    "    download_unsplash(unsplash_id)"
   ],
   "outputs": [
    {
     "output_type": "stream",
     "name": "stderr",
     "text": [
      "Downloading images from Unsplash: 100%|██████████| 12/12 [00:00<00:00, 23944.65it/s]\n"
     ]
    }
   ],
   "metadata": {}
  }
 ],
 "metadata": {
  "orig_nbformat": 4,
  "language_info": {
   "name": "python",
   "version": "3.9.2",
   "mimetype": "text/x-python",
   "codemirror_mode": {
    "name": "ipython",
    "version": 3
   },
   "pygments_lexer": "ipython3",
   "nbconvert_exporter": "python",
   "file_extension": ".py"
  },
  "kernelspec": {
   "name": "python3",
   "display_name": "Python 3.9.2 64-bit"
  },
  "interpreter": {
   "hash": "ec7934806f8124376a90f0712981b6243830dfa2de1727f9a0d6b81d02b24f67"
  }
 },
 "nbformat": 4,
 "nbformat_minor": 2
}